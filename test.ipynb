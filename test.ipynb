{
 "cells": [
  {
   "cell_type": "code",
   "execution_count": 4,
   "metadata": {
    "collapsed": true,
    "ExecuteTime": {
     "end_time": "2023-07-08T08:23:02.154870Z",
     "start_time": "2023-07-08T08:23:01.934354Z"
    }
   },
   "outputs": [],
   "source": [
    "# Print out empty txt file in data/output_data/refnos\n",
    "import os\n",
    "\n",
    "ref_nos_path = \"data/output_data/refnos\"\n",
    "\n",
    "empty_files = []\n",
    "for root, dirs, files in os.walk(ref_nos_path):\n",
    "    for file in files:\n",
    "        # check if the first line of file is \"\"\n",
    "        with open(os.path.join(root, file), \"r\") as f:\n",
    "            first_line = f.readline()\n",
    "            if first_line == \"\":\n",
    "                empty_files.append(file)"
   ]
  },
  {
   "cell_type": "code",
   "execution_count": 5,
   "outputs": [
    {
     "data": {
      "text/plain": "[]"
     },
     "execution_count": 5,
     "metadata": {},
     "output_type": "execute_result"
    }
   ],
   "source": [
    "empty_files"
   ],
   "metadata": {
    "collapsed": false,
    "ExecuteTime": {
     "end_time": "2023-07-08T08:23:09.612048Z",
     "start_time": "2023-07-08T08:23:09.595743Z"
    }
   }
  },
  {
   "cell_type": "code",
   "execution_count": null,
   "outputs": [],
   "source": [],
   "metadata": {
    "collapsed": false
   }
  }
 ],
 "metadata": {
  "kernelspec": {
   "display_name": "Python 3",
   "language": "python",
   "name": "python3"
  },
  "language_info": {
   "codemirror_mode": {
    "name": "ipython",
    "version": 2
   },
   "file_extension": ".py",
   "mimetype": "text/x-python",
   "name": "python",
   "nbconvert_exporter": "python",
   "pygments_lexer": "ipython2",
   "version": "2.7.6"
  }
 },
 "nbformat": 4,
 "nbformat_minor": 0
}
